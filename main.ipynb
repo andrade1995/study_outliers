{
 "cells": [
  {
   "cell_type": "code",
   "execution_count": null,
   "metadata": {},
   "outputs": [],
   "source": [
    "# Bibliotecas utilizadas no estudo\n",
    "# Professor Odemir Depieri Jr  -- Data Viking\n",
    "import pandas as pd\n",
    "import numpy as np\n",
    "\n",
    "import matplotlib.pyplot as plt\n",
    "import seaborn as sns\n",
    "\n",
    "from pyod.utils.data import generate_data\n",
    "\n",
    "from warnings import filterwarnings , catch_warnings"
   ]
  },
  {
   "cell_type": "code",
   "execution_count": null,
   "metadata": {},
   "outputs": [],
   "source": [
    "# Criando a base de dados\n",
    "dados_x, dados_y = generate_data(n_train=1000, train_only=True, n_features=2)\n",
    "\n",
    "eixo_x = dados_x[:,[0]].reshape(-1,1)\n",
    "eixo_y = dados_x[:,[1]].reshape(-1,1)\n",
    "\n",
    "tabela = pd.DataFrame(eixo_x, columns=['Eixo x'])\n",
    "tabela['Eixo y'] = eixo_y\n",
    "tabela['classe'] = dados_y\n",
    "\n",
    "tabela.head()"
   ]
  },
  {
   "cell_type": "code",
   "execution_count": null,
   "metadata": {},
   "outputs": [],
   "source": [
    "# Verificando a distribuição das classes\n",
    "tabela['classe'].value_counts( normalize=True ) * 100"
   ]
  },
  {
   "cell_type": "code",
   "execution_count": null,
   "metadata": {},
   "outputs": [],
   "source": [
    "# Plotando a distribuição dos valores\n",
    "\n",
    "plt.figure(figsize=(10,8))\n",
    "\n",
    "sns.scatterplot(x='Eixo x', y='Eixo y', hue='classe', data=tabela)\n",
    "\n",
    "plt.title('Analise de distriuição dos valores' , fontsize=18, loc = 'left')\n",
    "\n",
    "plt.show"
   ]
  },
  {
   "cell_type": "code",
   "execution_count": null,
   "metadata": {},
   "outputs": [],
   "source": [
    "# Dados estatísticos\n",
    "tabela.describe().transpose()"
   ]
  },
  {
   "cell_type": "code",
   "execution_count": null,
   "metadata": {},
   "outputs": [],
   "source": [
    "# Verificando a distribuição dos dados em boxplot\n",
    "plt.figure(figsize=(10,6))\n",
    "\n",
    "plt.subplot(1,2,1)\n",
    "plt.title('Análise eixo x')\n",
    "sns.boxplot(data = tabela , y = 'Eixo x')\n",
    "\n",
    "plt.subplot(1,2,2)\n",
    "plt.title('Análise eixo y')\n",
    "sns.boxplot(data = tabela , y = 'Eixo y')"
   ]
  },
  {
   "cell_type": "code",
   "execution_count": null,
   "metadata": {},
   "outputs": [],
   "source": [
    "# Calculos para extrair outliers\n",
    "\n",
    "q1 = np.percentile( tabela['Eixo x'] , 25 , interpolation='midpoint' )\n",
    "q3 = np.percentile( tabela['Eixo x'] , 75 , interpolation='midpoint' )\n",
    "\n",
    "# Intervalo do quartil\n",
    "iqr = q3 - q1\n",
    "\n",
    "print(f'Q1: {q1}')\n",
    "print(f'Q3: {q3}')\n",
    "print(f'IQR: {iqr}')"
   ]
  },
  {
   "cell_type": "code",
   "execution_count": null,
   "metadata": {},
   "outputs": [],
   "source": [
    "# Verificando valores que precisam sair ou serem tratados\n",
    "limite_superior = tabela['Eixo x'] >= q3 + 1.5 * iqr\n",
    "limite_inferior = tabela['Eixo x'] <= q1 - 1.5 * iqr\n",
    "\n",
    "print(f'Valores que são outliers:')\n",
    "print(np.where(limite_superior))\n",
    "print(np.where(limite_inferior))"
   ]
  },
  {
   "cell_type": "code",
   "execution_count": null,
   "metadata": {},
   "outputs": [],
   "source": [
    "# Aplicação\n",
    "\n",
    "menor = q1 - 1.5 * iqr\n",
    "maior = q3 + 1.5 * iqr\n",
    "\n",
    "dados_superior = np.where( tabela['Eixo x'] >= maior )\n",
    "dados_inferior = np.where( tabela['Eixo x'] <= menor )\n",
    "\n",
    "print(f'Serão retirados/tratados {dados_superior[0].shape} registros porque sao maiores que o q3')\n",
    "print(f'Serão retirados/tratados {dados_inferior[0].shape} registros porque sao menores que o q1')"
   ]
  },
  {
   "cell_type": "code",
   "execution_count": null,
   "metadata": {},
   "outputs": [],
   "source": [
    "# Criando nova base sem os outliers\n",
    "nova_base = tabela.drop( dados_superior[0] )\n",
    "nova_base = nova_base.drop( dados_inferior[0] )"
   ]
  },
  {
   "cell_type": "code",
   "execution_count": null,
   "metadata": {},
   "outputs": [],
   "source": [
    "print(f'Antes haviam {tabela.shape[0]} registros')\n",
    "print(f'Agora há {nova_base.shape[0]} registros')\n",
    "print(f'Foram retirados {tabela.shape[0] - nova_base.shape[0]} registros')"
   ]
  },
  {
   "cell_type": "code",
   "execution_count": null,
   "metadata": {},
   "outputs": [],
   "source": [
    "# Novo box plot com a nova base\n",
    "plt.figure(figsize=(10,6))\n",
    "\n",
    "plt.subplot(1,2,1)\n",
    "plt.title('Análise eixo x')\n",
    "sns.boxplot(data = nova_base , y = 'Eixo x')\n",
    "\n",
    "plt.subplot(1,2,2)\n",
    "plt.title('Análise eixo y')\n",
    "sns.boxplot(data = nova_base , y = 'Eixo y')"
   ]
  }
 ],
 "metadata": {
  "kernelspec": {
   "display_name": ".venv",
   "language": "python",
   "name": "python3"
  },
  "language_info": {
   "codemirror_mode": {
    "name": "ipython",
    "version": 3
   },
   "file_extension": ".py",
   "mimetype": "text/x-python",
   "name": "python",
   "nbconvert_exporter": "python",
   "pygments_lexer": "ipython3",
   "version": "3.10.11"
  },
  "orig_nbformat": 4
 },
 "nbformat": 4,
 "nbformat_minor": 2
}
